{
 "cells": [
  {
   "cell_type": "markdown",
   "id": "e1e78be1",
   "metadata": {},
   "source": [
    "# Diferenciation between Azure SDK  and Cloud Data Connector"
   ]
  },
  {
   "cell_type": "code",
   "execution_count": null,
   "id": "fc208a08",
   "metadata": {},
   "outputs": [],
   "source": [
    "from pathlib import Path\n",
    "import os\n",
    "import getpass\n",
    "import shutil\n",
    "from urllib.request import urlretrieve"
   ]
  },
  {
   "cell_type": "markdown",
   "id": "e2ca57be",
   "metadata": {},
   "source": [
    "## Input details\n",
    "Required data for both cases requires a connection string, container name and blob file."
   ]
  },
  {
   "cell_type": "code",
   "execution_count": null,
   "id": "99f10331",
   "metadata": {},
   "outputs": [],
   "source": [
    "connection_string = getpass.getpass(\"Insert Azure blob client connection string\")\n",
    "container_name = input(\"Container Name. (default: data-connector)\")\n",
    "if not container_name:\n",
    "    container_name = \"data-connector\"\n",
    "file_path = input(\"Upload file (default: .\\samples\\credit_card_clients.xls)\")\n",
    "if not file_path:\n",
    "    dataset = \"https://azuremlexamples.blob.core.windows.net/datasets/credit_card/default_of_credit_card_clients.csv\"\n",
    "    file_name = \"credit_card_clients.xls\"\n",
    "    file_name_cdc = \"credit_card_clients2.xls\"\n",
    "    urlretrieve(dataset, file_name)\n",
    "    file_path = os.path.join(Path().resolve(), file_name)\n",
    "    shutil.copy2(file_path, file_name_cdc)\n",
    "else:\n",
    "    file_name = Path(file_path).name\n",
    "\n",
    "print(f\"Container: {container_name}, file name: {file_name}\")"
   ]
  },
  {
   "cell_type": "markdown",
   "id": "c33045bb",
   "metadata": {},
   "source": [
    "\n",
    "## Azure SDK"
   ]
  },
  {
   "cell_type": "markdown",
   "id": "b311f2d7",
   "metadata": {},
   "source": [
    "### Import Azure BlobServiceClient and Exception"
   ]
  },
  {
   "cell_type": "code",
   "execution_count": null,
   "id": "9c926494",
   "metadata": {},
   "outputs": [],
   "source": [
    "from azure.storage.blob import BlobServiceClient\n",
    "from azure.core.exceptions import ResourceExistsError"
   ]
  },
  {
   "cell_type": "markdown",
   "id": "4a23143c",
   "metadata": {},
   "source": [
    "### Connecting BlobServiceClient"
   ]
  },
  {
   "cell_type": "code",
   "execution_count": null,
   "id": "62976db7",
   "metadata": {},
   "outputs": [],
   "source": [
    "blob_service_client: BlobServiceClient = BlobServiceClient.from_connection_string(conn_str=connection_string)\n",
    "container_client = blob_service_client.get_container_client(container_name)"
   ]
  },
  {
   "cell_type": "markdown",
   "id": "2ed69912",
   "metadata": {},
   "source": [
    "### Upload File"
   ]
  },
  {
   "cell_type": "code",
   "execution_count": null,
   "id": "524211e6",
   "metadata": {},
   "outputs": [],
   "source": [
    "if os.path.exists(file_path):\n",
    "    try:\n",
    "        print(f\"file_name: {file_name}\")\n",
    "        print(f\"file path: {file_path}\")\n",
    "        blob_service_client = BlobServiceClient.from_connection_string(\n",
    "            connection_string\n",
    "        )\n",
    "\n",
    "        container_client = blob_service_client.get_container_client(container_name)\n",
    "        with open(file_path, 'rb') as data:\n",
    "            container_client.upload_blob(name=file_name ,data=data)\n",
    "    except ResourceExistsError as ree:\n",
    "        print(ree)\n",
    "else:\n",
    "    print(f\"File missed:  {file_path}\")\n",
    "\n"
   ]
  },
  {
   "cell_type": "markdown",
   "id": "bacb6bad",
   "metadata": {},
   "source": [
    "### Download File"
   ]
  },
  {
   "cell_type": "code",
   "execution_count": null,
   "id": "ffc1f6ba",
   "metadata": {},
   "outputs": [],
   "source": [
    "storage_stream_downloader = container_client.download_blob(\n",
    "    file_name\n",
    ")"
   ]
  },
  {
   "cell_type": "markdown",
   "id": "f5326c04",
   "metadata": {},
   "source": [
    "# Cloud Data Connector\n"
   ]
  },
  {
   "cell_type": "markdown",
   "id": "a9a370aa",
   "metadata": {},
   "source": [
    "### Import azure Cloud Data Connector  "
   ]
  },
  {
   "cell_type": "code",
   "execution_count": null,
   "id": "46dfd7df",
   "metadata": {},
   "outputs": [],
   "source": [
    "from cloud_data_connector.azure import Connector, Uploader, Downloader, connect"
   ]
  },
  {
   "cell_type": "markdown",
   "id": "598ec26d",
   "metadata": {},
   "source": [
    "### Upload File"
   ]
  },
  {
   "cell_type": "code",
   "execution_count": null,
   "id": "0a25ec55",
   "metadata": {},
   "outputs": [],
   "source": [
    "connector: BlobServiceClient = connect(connection_string)\n",
    "# Upload file\n",
    "uploader: Uploader = Uploader(connector)\n",
    "uploader.upload(source_path=file_name_cdc, blob_container_name=container_name)\n",
    "print(type(connector))"
   ]
  },
  {
   "cell_type": "markdown",
   "id": "069d2078",
   "metadata": {},
   "source": [
    "### Download File"
   ]
  },
  {
   "cell_type": "markdown",
   "id": "c3f79fdb",
   "metadata": {},
   "source": [
    "#### Connect Cloud Data Connector to Azure"
   ]
  },
  {
   "cell_type": "code",
   "execution_count": null,
   "id": "a66b2f69",
   "metadata": {},
   "outputs": [],
   "source": [
    "downloader: Downloader = Downloader(\n",
    "   connector\n",
    ")"
   ]
  },
  {
   "cell_type": "markdown",
   "id": "7dbcbaf4",
   "metadata": {},
   "source": [
    "#### Dowload File"
   ]
  },
  {
   "cell_type": "code",
   "execution_count": null,
   "id": "e003639d",
   "metadata": {},
   "outputs": [],
   "source": [
    "\n",
    "downloader.download(\n",
    "    donwload_obj=container_name,\n",
    "    data_file=file_name_cdc,\n",
    "    destiny=file_name_cdc+\"dc_downloaded\"\n",
    ")\n"
   ]
  }
 ],
 "metadata": {
  "kernelspec": {
   "display_name": "data_connector_implementation",
   "language": "python",
   "name": "data_connector_implementation"
  },
  "language_info": {
   "codemirror_mode": {
    "name": "ipython",
    "version": 3
   },
   "file_extension": ".py",
   "mimetype": "text/x-python",
   "name": "python",
   "nbconvert_exporter": "python",
   "pygments_lexer": "ipython3",
   "version": "3.10.11"
  }
 },
 "nbformat": 4,
 "nbformat_minor": 5
}
