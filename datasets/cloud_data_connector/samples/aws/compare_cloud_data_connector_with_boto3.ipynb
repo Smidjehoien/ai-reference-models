{
 "cells": [
  {
   "attachments": {},
   "cell_type": "markdown",
   "id": "fc20f568",
   "metadata": {},
   "source": [
    "## Compare Cloud Data Connector with Boto3"
   ]
  },
  {
   "attachments": {},
   "cell_type": "markdown",
   "id": "ab39d0f9",
   "metadata": {},
   "source": [
    "This notebook details the steps to upload and download a txt file using the Cloud Data Connector and the AWS SDK for Python.\n",
    "\n",
    "### Prerequisites\n",
    "\n",
    "1. Install Cloud Data Connector.\n",
    "2. Configure you AWS credentials in environment variables.\n",
    "\n",
    "Before running the notebook, configure environment variables and set your credentials as follows:\n",
    "\n",
    "```\n",
    "$ export AWS_ACCESS_KEY_ID=<your_key_id>\n",
    "$ export AWS_SECRET_ACCESS_KEY=<your_secret_key>\n",
    "```\n",
    "\n",
    "For this example, create an AWS S3 bucket and set the bucket name in `BUCKET_NAME` environment variable as follows:\n",
    "\n",
    "```\n",
    "$ export BUCKET_NAME=<your_bucket_name>\n",
    "```\n",
    "\n",
    "You can store `BUCKET_NAME`, `AWS_ACCESS_KEY_ID` and `AWS_SECRET_ACCESS_KEY` in an .env file in the same directory as this notebook.\n",
    "\n",
    "### Specify key value for the new file you will upload to AWS S3 bucket\n",
    "\n",
    "In AWS S3, files are stored in buckets. S3 supports  the folder concept as a means of grouping objects, so you can specify a folder name where to put a file as a key. For example, a key should be `dir_name/file_name`.\n",
    "\n",
    "Below cell defines a key for this example. The file will be saved in `1937` folder and its name will be `hello_world.txt`."
   ]
  },
  {
   "cell_type": "code",
   "execution_count": null,
   "id": "16438501",
   "metadata": {},
   "outputs": [],
   "source": [
    "dir_name = \"1937\"\n",
    "file_name = \"hello_world.txt\"\n",
    "key = f\"{dir_name}/{file_name}\"\n",
    "print(key)"
   ]
  },
  {
   "attachments": {},
   "cell_type": "markdown",
   "id": "d40d2f41",
   "metadata": {},
   "source": [
    "### Prepare data\n",
    "Create a downloads directory to save downloaded files."
   ]
  },
  {
   "cell_type": "code",
   "execution_count": null,
   "id": "1a4725ea",
   "metadata": {},
   "outputs": [],
   "source": [
    "import os\n",
    "download_dir = 'downloads'\n",
    "if not os.path.exists(download_dir):\n",
    "    os.mkdir(download_dir)"
   ]
  },
  {
   "attachments": {},
   "cell_type": "markdown",
   "id": "9258e1f8",
   "metadata": {},
   "source": [
    "Create a uploads directory to save all files you will upload."
   ]
  },
  {
   "cell_type": "code",
   "execution_count": null,
   "id": "291edce8",
   "metadata": {},
   "outputs": [],
   "source": [
    "uploads_dir = 'uploads'\n",
    "if not os.path.exists(uploads_dir):\n",
    "    os.mkdir(uploads_dir)"
   ]
  },
  {
   "attachments": {},
   "cell_type": "markdown",
   "id": "a63a0fb3",
   "metadata": {},
   "source": [
    "Create a txt file in uploads directory and add a plain text string."
   ]
  },
  {
   "cell_type": "code",
   "execution_count": null,
   "id": "b304fbee",
   "metadata": {},
   "outputs": [],
   "source": [
    "file_text = \"Hello World!\"\n",
    "file_path = f\"{uploads_dir}/{file_name}\"\n",
    "with open(file_path, \"w\", encoding=\"UTF-8\") as f:\n",
    "    f.write(file_text)"
   ]
  },
  {
   "attachments": {},
   "cell_type": "markdown",
   "id": "afc7315a",
   "metadata": {},
   "source": [
    "Read name of the bucket to upload to."
   ]
  },
  {
   "cell_type": "code",
   "execution_count": null,
   "id": "326a7ccf",
   "metadata": {},
   "outputs": [],
   "source": [
    "try:\n",
    "    aws_bucket_name = os.environ[\"BUCKET_NAME\"]\n",
    "except KeyError: \n",
    "    print(\"Environment variable does not exist, please set a value for aws_bucket_name\")"
   ]
  },
  {
   "attachments": {},
   "cell_type": "markdown",
   "id": "4a66bcee",
   "metadata": {},
   "source": [
    "### Upload file with Cloud Data Connector\n",
    "\n",
    "Import `Connector`, `Downloader` and `Uploader` from cloud_data_connector package. Create a `Connector` to get a S3 client. By default, the `connect` function reads the `AWS_ACCESS_KEY_ID` and `AWS_SECRET_ACCESS_KEY` values from environment variables.\n",
    "\n",
    "Two lines of code to get a S3 client."
   ]
  },
  {
   "cell_type": "code",
   "execution_count": null,
   "id": "c34ad533",
   "metadata": {},
   "outputs": [],
   "source": [
    "from cloud_data_connector.aws import Connector, Downloader, Uploader\n",
    "s3_client = Connector().connect()"
   ]
  },
  {
   "attachments": {},
   "cell_type": "markdown",
   "id": "01c34afb",
   "metadata": {},
   "source": [
    "Next step is to create an `Uploader`, add the S3 client returned by `connect` as parameter and call to `upload`. Set bucket name, file name and key parameters.\n",
    "\n",
    "One line of code to upload a file to S3 bucket."
   ]
  },
  {
   "cell_type": "code",
   "execution_count": null,
   "id": "39b73468",
   "metadata": {},
   "outputs": [],
   "source": [
    "Uploader(s3_client).upload(aws_bucket_name, file_path, key)"
   ]
  },
  {
   "attachments": {},
   "cell_type": "markdown",
   "id": "5042fbaa",
   "metadata": {},
   "source": [
    "### Download file with Cloud Data Connector\n",
    "\n",
    "Download file `hello_world.txt` and save it in `downloads/hello_world_cloud_data_connector.txt`.\n",
    "\n",
    "Set file name."
   ]
  },
  {
   "cell_type": "code",
   "execution_count": null,
   "id": "3e9abcac",
   "metadata": {},
   "outputs": [],
   "source": [
    "cloud_data_connector_file_name=\"hello_world_cloud_data_connector.txt\""
   ]
  },
  {
   "attachments": {},
   "cell_type": "markdown",
   "id": "6860a924",
   "metadata": {},
   "source": [
    "Create a `Downloader` for  `s3_client` and execute `download` as follows:\n",
    "\n",
    "One line of code is needed to download a file."
   ]
  },
  {
   "cell_type": "code",
   "execution_count": null,
   "id": "1b8bd1f5",
   "metadata": {},
   "outputs": [],
   "source": [
    "Downloader(s3_client).download(aws_bucket_name, key, f\"{download_dir}/{cloud_data_connector_file_name}\")"
   ]
  },
  {
   "attachments": {},
   "cell_type": "markdown",
   "id": "8072e7e0",
   "metadata": {},
   "source": [
    "Inspect downloaded file"
   ]
  },
  {
   "cell_type": "code",
   "execution_count": null,
   "id": "3cf9aa16",
   "metadata": {},
   "outputs": [],
   "source": [
    "!cat ./{download_dir}/{cloud_data_connector_file_name}"
   ]
  },
  {
   "attachments": {},
   "cell_type": "markdown",
   "id": "0ba31a8c",
   "metadata": {},
   "source": [
    "### Upload file with boto3\n",
    "\n",
    "For boto3 package, two lines of code to get a S3 client."
   ]
  },
  {
   "cell_type": "code",
   "execution_count": null,
   "id": "88a7a96e",
   "metadata": {},
   "outputs": [],
   "source": [
    "import boto3\n",
    "s3_client = boto3.client('s3')"
   ]
  },
  {
   "attachments": {},
   "cell_type": "markdown",
   "id": "c8fd9aea",
   "metadata": {},
   "source": [
    "S3 client has the `upload_file` function, it accepts a file path, a bucket name, and an object name or key.\n",
    "\n",
    "To upload the file `hello_world.txt` to `BUCKET_NAME`, boto3 needs six lines of code."
   ]
  },
  {
   "cell_type": "code",
   "execution_count": null,
   "id": "2d14a3bd",
   "metadata": {},
   "outputs": [],
   "source": [
    "from botocore.exceptions import ClientError\n",
    "import logging\n",
    "try:\n",
    "    response = s3_client.upload_file(file_path, aws_bucket_name, key)\n",
    "except ClientError as e:\n",
    "    logging.error(e)"
   ]
  },
  {
   "attachments": {},
   "cell_type": "markdown",
   "id": "aa683a26",
   "metadata": {},
   "source": [
    "### Download file with boto3\n",
    "\n",
    "Your bucket has a file `1937/hello_world.txt` and you can download it. A function provided by boto3 to download files is `download_file`, its parameters are bucket name, key, and file name.\n",
    "\n",
    "Download `1937/hello_world.txt` file and save it in `hello_world_boto3.txt`."
   ]
  },
  {
   "cell_type": "code",
   "execution_count": null,
   "id": "03c89c1f",
   "metadata": {},
   "outputs": [],
   "source": [
    "boto3_file_name=\"hello_world_boto3.txt\""
   ]
  },
  {
   "attachments": {},
   "cell_type": "markdown",
   "id": "54a69c0a",
   "metadata": {},
   "source": [
    "One line of code to download a file to your local directory with boto3."
   ]
  },
  {
   "cell_type": "code",
   "execution_count": null,
   "id": "bdfebe76",
   "metadata": {},
   "outputs": [],
   "source": [
    "s3_client.download_file(aws_bucket_name, key, f\"{download_dir}/{boto3_file_name}\")"
   ]
  },
  {
   "attachments": {},
   "cell_type": "markdown",
   "id": "3e3076bc",
   "metadata": {},
   "source": [
    "Inspect downloaded file"
   ]
  },
  {
   "cell_type": "code",
   "execution_count": null,
   "id": "67cbe3a6",
   "metadata": {},
   "outputs": [],
   "source": [
    "!cat ./{download_dir}/{boto3_file_name}"
   ]
  }
 ],
 "metadata": {
  "kernelspec": {
   "display_name": "intel_sample_env",
   "language": "python",
   "name": "intel_sample_env"
  },
  "language_info": {
   "codemirror_mode": {
    "name": "ipython",
    "version": 3
   },
   "file_extension": ".py",
   "mimetype": "text/x-python",
   "name": "python",
   "nbconvert_exporter": "python",
   "pygments_lexer": "ipython3",
   "version": "3.9.16"
  }
 },
 "nbformat": 4,
 "nbformat_minor": 5
}
