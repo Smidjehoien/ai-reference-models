{
 "cells": [
  {
   "cell_type": "markdown",
   "id": "62545fc3-6e59-4914-8280-8650b613d94a",
   "metadata": {},
   "source": [
    "# Code comparison between Cloud Data Connector and GCP python API\n",
    "\n",
    "The following cells show a comparison of how much lines of code are needed to implement Upload and Download routines using Cloud Data Connector and GCP python API. The first cell includes common lines of code between both implementations, these lines will not be considered for the final line count. User should set some variable in order to use the code."
   ]
  },
  {
   "cell_type": "code",
   "execution_count": null,
   "id": "c62ea5a1-b99f-4a37-8dee-6e4c2538307e",
   "metadata": {},
   "outputs": [],
   "source": [
    "import os\n",
    "import tempfile\n",
    "\n",
    "os.environ[\"GOOGLE_APPLICATION_CREDENTIALS\"] = \"<Path to service account credentials>\"\n",
    "bucket_name = \"<bucket_name>\"\n",
    "blob_name = \"<blob_name>\"\n",
    "msg = b'Happy days'\n",
    "project_name = \"<project_name>\"\n",
    "\n",
    "f = tempfile.NamedTemporaryFile(delete=False)\n",
    "f.write(msg)\n",
    "f.close()\n",
    "file_path = f.name"
   ]
  },
  {
   "cell_type": "markdown",
   "id": "7c03f516-6a37-4d30-ad11-faa1b5c298de",
   "metadata": {},
   "source": [
    "The following three cells are Cloud Data Connector code. The basic imports and to obtain the connector only three lines of code are needed."
   ]
  },
  {
   "cell_type": "code",
   "execution_count": null,
   "id": "411c1561-9bc6-4084-837b-395eaadce9f3",
   "metadata": {},
   "outputs": [],
   "source": [
    "from cloud_data_connector.gcp import Connector, Downloader, Uploader\n",
    "\n",
    "connector = Connector(\"storage\")\n",
    "storage_client = connector.connect(connection_string=project_name)"
   ]
  },
  {
   "cell_type": "markdown",
   "id": "e07e415c-4638-46fa-98ef-c48d66e7238e",
   "metadata": {},
   "source": [
    "The upload routine only needs two lines of code to work."
   ]
  },
  {
   "cell_type": "code",
   "execution_count": null,
   "id": "83401277-dc8a-410b-9be7-488b6b5ac421",
   "metadata": {},
   "outputs": [],
   "source": [
    "uploader = Uploader(storage_client)\n",
    "uploader.upload_to_bucket(bucket_name, file_path, blob_name)"
   ]
  },
  {
   "cell_type": "markdown",
   "id": "d7bc4dfc-18c8-44a5-a882-9c3047664e4b",
   "metadata": {},
   "source": [
    "Finally, to download the uploaded file to GCP storage three lines of code are needed (open and print lines are not counted). In total the complete process needs eight lines to run."
   ]
  },
  {
   "cell_type": "code",
   "execution_count": null,
   "id": "a6974368-563c-4de1-bbb7-8b718fe9cf9c",
   "metadata": {},
   "outputs": [],
   "source": [
    "destination_path = \"test1.txt\"\n",
    "downloader = Downloader(storage_client)\n",
    "downloader.download(bucket_name,blob_name, destination_path)\n",
    "\n",
    "with open(destination_path, 'r') as file:\n",
    "    print(file.read())"
   ]
  },
  {
   "cell_type": "markdown",
   "id": "08def7e7-00b9-420f-8730-71830e13c2a8",
   "metadata": {},
   "source": [
    "For GCP python API, three imports plus one line for the storage client declaration are needed."
   ]
  },
  {
   "cell_type": "code",
   "execution_count": null,
   "id": "c59dc999-46ba-49f2-b834-72a55da3e67b",
   "metadata": {},
   "outputs": [],
   "source": [
    "from google.cloud import storage\n",
    "from google.api_core.exceptions import NotFound\n",
    "from google.cloud.exceptions import GoogleCloudError\n",
    "\n",
    "storage_client = storage.Client(project=project_name)"
   ]
  },
  {
   "cell_type": "markdown",
   "id": "ce6a13ef-2138-4ec6-b619-f207e3e4c32b",
   "metadata": {},
   "source": [
    "To upload the file to a bucket eight lines are required."
   ]
  },
  {
   "cell_type": "code",
   "execution_count": null,
   "id": "7d86235b-469a-468d-ae4b-aa1904138a12",
   "metadata": {},
   "outputs": [],
   "source": [
    "if not os.path.isfile(file_path):\n",
    "    raise FileNotFoundError(\"{} not found.\".format(data_file))\n",
    "        \n",
    "try:\n",
    "    bucket = storage_client.get_bucket(bucket_name)\n",
    "    blob = bucket.blob(blob_name)\n",
    "    blob.upload_from_filename(file_path)\n",
    "except GoogleCloudError as e:\n",
    "    raise GoogleCloudError('Failed to copy local file {0} to cloud storage file {1}.'.format(file_path, blob_name))"
   ]
  },
  {
   "cell_type": "markdown",
   "id": "df38587d-66f5-47ad-b239-ae66a2d8fb81",
   "metadata": {},
   "source": [
    "To download the file from storage eight lines are require, giving a total of twenty lines (open and print lines are not counted)."
   ]
  },
  {
   "cell_type": "code",
   "execution_count": null,
   "id": "d841caa5-d237-49e0-b5b8-eba8b40195cb",
   "metadata": {},
   "outputs": [],
   "source": [
    "destination_path = \"test2.txt\"\n",
    "try:\n",
    "    bucket = storage_client.get_bucket(bucket_name)\n",
    "    blob = bucket.blob(blob_name)\n",
    "    with open(destination_path, 'wb') as f:\n",
    "        storage_client.download_blob_to_file(blob, f)\n",
    "except NotFound as e:\n",
    "    print(\"blob not found: {}\".format(e))\n",
    "\n",
    "with open(destination_path, 'r') as file:\n",
    "    print(file.read())"
   ]
  }
 ],
 "metadata": {
  "kernelspec": {
   "display_name": "data_connector",
   "language": "python",
   "name": "data_connector"
  },
  "language_info": {
   "codemirror_mode": {
    "name": "ipython",
    "version": 3
   },
   "file_extension": ".py",
   "mimetype": "text/x-python",
   "name": "python",
   "nbconvert_exporter": "python",
   "pygments_lexer": "ipython3",
   "version": "3.9.0"
  }
 },
 "nbformat": 4,
 "nbformat_minor": 5
}
